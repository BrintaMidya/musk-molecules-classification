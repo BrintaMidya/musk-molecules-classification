{
 "cells": [
  {
   "cell_type": "code",
   "execution_count": 12,
   "metadata": {},
   "outputs": [],
   "source": [
    "import pandas as pd\n",
    "import numpy as np\n",
    "\n",
    "import keras\n",
    "from keras.models import Model\n",
    "from keras.layers import *\n",
    "from keras import optimizers\n",
    "\n"
   ]
  },
  {
   "cell_type": "code",
   "execution_count": 13,
   "metadata": {},
   "outputs": [
    {
     "name": "stdout",
     "output_type": "stream",
     "text": [
      "(6598, 166)\n",
      "(6598,)\n"
     ]
    }
   ],
   "source": [
    "df = pd.read_csv(\"musk_csv.csv\")\n",
    "X = df.iloc[:,3:169]\n",
    "Y = df.iloc[:,169]\n",
    "print(X.shape)\n",
    "print(Y.shape)\n",
    "\n"
   ]
  },
  {
   "cell_type": "code",
   "execution_count": 15,
   "metadata": {},
   "outputs": [
    {
     "name": "stdout",
     "output_type": "stream",
     "text": [
      "(5278, 166)\n",
      "(1320, 166)\n"
     ]
    },
    {
     "name": "stderr",
     "output_type": "stream",
     "text": [
      "C:\\Users\\Brinta Midya\\Anaconda3\\envs\\pythonCPU\\lib\\site-packages\\ipykernel_launcher.py:6: FutureWarning: Method .as_matrix will be removed in a future version. Use .values instead.\n",
      "  \n",
      "C:\\Users\\Brinta Midya\\Anaconda3\\envs\\pythonCPU\\lib\\site-packages\\ipykernel_launcher.py:7: FutureWarning: Method .as_matrix will be removed in a future version. Use .values instead.\n",
      "  import sys\n"
     ]
    }
   ],
   "source": [
    "from sklearn.model_selection import train_test_split\n",
    "X_train, X_cv, Y_train, Y_cv = train_test_split(X,Y,test_size = 0.2,random_state = 121)\n",
    "\n",
    "print(X_train.shape)\n",
    "print(X_cv.shape)\n",
    "X_train = X_train.as_matrix().reshape(5278,166)\n",
    "X_cv = X_cv.as_matrix().reshape(1320,166)\n",
    "X_train = X_train.astype('float32')\n",
    "X_cv = X_cv.astype('float32')"
   ]
  },
  {
   "cell_type": "code",
   "execution_count": 35,
   "metadata": {},
   "outputs": [],
   "source": [
    "n_input = 166 # number of features\n",
    "n_hidden_1 = 600\n",
    "n_hidden_2 = 500\n",
    "n_hidden_3 = 500\n",
    "n_hidden_4 = 500\n",
    "n_hidden_5 = 300\n",
    "n_hidden_6 = 50\n",
    "\n",
    "Inp = Input(shape=(166,))\n",
    "x = Dense(n_hidden_1, activation='sigmoid', name = \"Hidden_Layer_1\")(Inp)\n",
    "x = Dense(n_hidden_2, activation='sigmoid', name = \"Hidden_Layer_2\")(x)\n",
    "x = Dense(n_hidden_3, activation='sigmoid', name = \"Hidden_Layer_3\")(x)\n",
    "x = Dense(n_hidden_4, activation='sigmoid', name = \"Hidden_Layer_4\")(x)\n",
    "x = Dense(n_hidden_5, activation='sigmoid', name = \"Hidden_Layer_5\")(x)\n",
    "x = Dense(n_hidden_6, activation='sigmoid', name = \"Hidden_Layer_6\")(x)\n",
    "output = Dense(1, activation='sigmoid', name = \"Output_Layer\")(x)"
   ]
  },
  {
   "cell_type": "code",
   "execution_count": null,
   "metadata": {},
   "outputs": [],
   "source": []
  },
  {
   "cell_type": "code",
   "execution_count": 61,
   "metadata": {},
   "outputs": [
    {
     "name": "stdout",
     "output_type": "stream",
     "text": [
      "_________________________________________________________________\n",
      "Layer (type)                 Output Shape              Param #   \n",
      "=================================================================\n",
      "input_7 (InputLayer)         (None, 166)               0         \n",
      "_________________________________________________________________\n",
      "Hidden_Layer_1 (Dense)       (None, 600)               100200    \n",
      "_________________________________________________________________\n",
      "Hidden_Layer_2 (Dense)       (None, 500)               300500    \n",
      "_________________________________________________________________\n",
      "Hidden_Layer_3 (Dense)       (None, 500)               250500    \n",
      "_________________________________________________________________\n",
      "Hidden_Layer_4 (Dense)       (None, 500)               250500    \n",
      "_________________________________________________________________\n",
      "Hidden_Layer_5 (Dense)       (None, 300)               150300    \n",
      "_________________________________________________________________\n",
      "Hidden_Layer_6 (Dense)       (None, 50)                15050     \n",
      "_________________________________________________________________\n",
      "Output_Layer (Dense)         (None, 1)                 51        \n",
      "=================================================================\n",
      "Total params: 1,067,101\n",
      "Trainable params: 1,067,101\n",
      "Non-trainable params: 0\n",
      "_________________________________________________________________\n"
     ]
    }
   ],
   "source": [
    "model = Model(Inp,output)\n",
    "model.summary()"
   ]
  },
  {
   "cell_type": "code",
   "execution_count": 87,
   "metadata": {},
   "outputs": [],
   "source": [
    "learning_rate = 0.0000001\n",
    "training_epoch = 20\n",
    "batch_size = 1000\n",
    "adam = optimizers.adam(lr=learning_rate)"
   ]
  },
  {
   "cell_type": "code",
   "execution_count": 88,
   "metadata": {},
   "outputs": [],
   "source": [
    "model.compile(loss='binary_crossentropy',optimizer='adam',metrics=['accuracy'])"
   ]
  },
  {
   "cell_type": "code",
   "execution_count": 89,
   "metadata": {},
   "outputs": [
    {
     "name": "stdout",
     "output_type": "stream",
     "text": [
      "Train on 5278 samples, validate on 1320 samples\n",
      "Epoch 1/20\n",
      " - 8s - loss: 0.2287 - acc: 0.9290 - val_loss: 0.1756 - val_acc: 0.9538\n",
      "Epoch 2/20\n",
      " - 2s - loss: 0.1677 - acc: 0.9566 - val_loss: 0.1310 - val_acc: 0.9598\n",
      "Epoch 3/20\n",
      " - 2s - loss: 0.0818 - acc: 0.9725 - val_loss: 0.0856 - val_acc: 0.9689\n",
      "Epoch 4/20\n",
      " - 2s - loss: 0.0786 - acc: 0.9706 - val_loss: 0.0606 - val_acc: 0.9788\n",
      "Epoch 5/20\n",
      " - 2s - loss: 0.0599 - acc: 0.9790 - val_loss: 0.0579 - val_acc: 0.9780\n",
      "Epoch 6/20\n",
      " - 2s - loss: 0.0398 - acc: 0.9901 - val_loss: 0.0501 - val_acc: 0.9818\n",
      "Epoch 7/20\n",
      " - 2s - loss: 0.0325 - acc: 0.9919 - val_loss: 0.0401 - val_acc: 0.9856\n",
      "Epoch 8/20\n",
      " - 2s - loss: 0.0243 - acc: 0.9943 - val_loss: 0.0316 - val_acc: 0.9886\n",
      "Epoch 9/20\n",
      " - 2s - loss: 0.0212 - acc: 0.9939 - val_loss: 0.0366 - val_acc: 0.9886\n",
      "Epoch 10/20\n",
      " - 2s - loss: 0.0189 - acc: 0.9945 - val_loss: 0.0341 - val_acc: 0.9864\n",
      "Epoch 11/20\n",
      " - 3s - loss: 0.0201 - acc: 0.9937 - val_loss: 0.0341 - val_acc: 0.9856\n",
      "Epoch 12/20\n",
      " - 3s - loss: 0.0172 - acc: 0.9947 - val_loss: 0.0301 - val_acc: 0.9879\n",
      "Epoch 13/20\n",
      " - 2s - loss: 0.0149 - acc: 0.9964 - val_loss: 0.0244 - val_acc: 0.9924\n",
      "Epoch 14/20\n",
      " - 3s - loss: 0.0165 - acc: 0.9949 - val_loss: 0.0274 - val_acc: 0.9902\n",
      "Epoch 15/20\n",
      " - 2s - loss: 0.0193 - acc: 0.9930 - val_loss: 0.0296 - val_acc: 0.9902\n",
      "Epoch 16/20\n",
      " - 2s - loss: 0.0129 - acc: 0.9966 - val_loss: 0.0291 - val_acc: 0.9879\n",
      "Epoch 17/20\n",
      " - 2s - loss: 0.0150 - acc: 0.9949 - val_loss: 0.0365 - val_acc: 0.9864\n",
      "Epoch 18/20\n",
      " - 2s - loss: 0.0169 - acc: 0.9941 - val_loss: 0.0469 - val_acc: 0.9841\n",
      "Epoch 19/20\n",
      " - 2s - loss: 0.0169 - acc: 0.9943 - val_loss: 0.0379 - val_acc: 0.9864\n",
      "Epoch 20/20\n",
      " - 2s - loss: 0.0191 - acc: 0.9930 - val_loss: 0.0343 - val_acc: 0.9886\n"
     ]
    }
   ],
   "source": [
    "history1 = model.fit(X_train,Y_train,batch_size=batch_size,epochs = training_epoch,verbose=2,validation_data=(X_cv,Y_cv))"
   ]
  },
  {
   "cell_type": "code",
   "execution_count": 53,
   "metadata": {},
   "outputs": [
    {
     "name": "stdout",
     "output_type": "stream",
     "text": [
      "dict_keys(['val_loss', 'val_acc', 'loss', 'acc'])\n"
     ]
    }
   ],
   "source": [
    "print(history1.history.keys())"
   ]
  },
  {
   "cell_type": "code",
   "execution_count": 90,
   "metadata": {},
   "outputs": [
    {
     "data": {
      "image/png": "[encoded data removed]",
      "text/plain": [
       "<Figure size 432x288 with 2 Axes>"
      ]
     },
     "metadata": {
      "needs_background": "light"
     },
     "output_type": "display_data"
    }
   ],
   "source": [
    "from matplotlib import pyplot\n",
    "\n",
    "# plot loss during training\n",
    "pyplot.subplot(211)\n",
    "pyplot.title('Loss')\n",
    "pyplot.plot(history1.history['loss'], label='train')\n",
    "pyplot.plot(history1.history['val_loss'], label='test')\n",
    "pyplot.legend()\n",
    "# plot accuracy during training\n",
    "pyplot.subplot(212)\n",
    "pyplot.title('Accuracy')\n",
    "pyplot.plot(history1.history['acc'], label='train')\n",
    "pyplot.plot(history1.history['val_acc'], label='test')\n",
    "pyplot.legend()\n",
    "pyplot.show()"
   ]
  },
  {
   "cell_type": "code",
   "execution_count": 91,
   "metadata": {},
   "outputs": [],
   "source": [
    "model.save('model_adam_new.h5')\n",
    "model.save_weights(\"model_Weights_new.h5\")"
   ]
  },
  {
   "cell_type": "code",
   "execution_count": null,
   "metadata": {},
   "outputs": [],
   "source": []
  },
  {
   "cell_type": "code",
   "execution_count": null,
   "metadata": {},
   "outputs": [],
   "source": []
  },
  {
   "cell_type": "code",
   "execution_count": null,
   "metadata": {},
   "outputs": [],
   "source": []
  },
  {
   "cell_type": "code",
   "execution_count": null,
   "metadata": {},
   "outputs": [],
   "source": []
  }
 ],
 "metadata": {
  "kernelspec": {
   "display_name": "Python 3",
   "language": "python",
   "name": "python3"
  },
  "language_info": {
   "codemirror_mode": {
    "name": "ipython",
    "version": 3
   },
   "file_extension": ".py",
   "mimetype": "text/x-python",
   "name": "python",
   "nbconvert_exporter": "python",
   "pygments_lexer": "ipython3",
   "version": "3.7.4"
  }
 },
 "nbformat": 4,
 "nbformat_minor": 2
}
